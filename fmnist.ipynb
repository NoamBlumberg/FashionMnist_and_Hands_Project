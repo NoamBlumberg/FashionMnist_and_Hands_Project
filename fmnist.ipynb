{
 "cells": [
  {
   "cell_type": "code",
   "execution_count": 40,
   "outputs": [],
   "source": [
    "import numpy as np\n",
    "import pandas as pd\n",
    "import seaborn as sns\n",
    "import matplotlib.pyplot as plt\n",
    "%matplotlib inline\n",
    "#import sklearn as skl\n",
    "#from sklearn.metrics import confusion_matrix, classification_report, accuracy_score\n",
    "#from sklearn import metrics\n"
   ],
   "metadata": {
    "collapsed": false,
    "pycharm": {
     "name": "#%%\n"
    }
   }
  },
  {
   "cell_type": "code",
   "execution_count": 41,
   "outputs": [],
   "source": [
    "df = pd.read_csv('DF/FMnist/fashion-mnist_train.csv', dtype=int) # read train data"
   ],
   "metadata": {
    "collapsed": false,
    "pycharm": {
     "name": "#%%\n"
    }
   }
  },
  {
   "cell_type": "code",
   "execution_count": 42,
   "outputs": [
    {
     "name": "stdout",
     "output_type": "stream",
     "text": [
      "<class 'pandas.core.frame.DataFrame'>\n",
      "RangeIndex: 60000 entries, 0 to 59999\n",
      "Columns: 785 entries, label to pixel784\n",
      "dtypes: int64(785)\n",
      "memory usage: 359.3 MB\n"
     ]
    }
   ],
   "source": [
    "df.info()"
   ],
   "metadata": {
    "collapsed": false,
    "pycharm": {
     "name": "#%%\n"
    }
   }
  },
  {
   "cell_type": "code",
   "execution_count": 43,
   "outputs": [],
   "source": [
    "x = df.drop(\"label\",axis = 1)\n",
    "y = df.label\n",
    "\n"
   ],
   "metadata": {
    "collapsed": false,
    "pycharm": {
     "name": "#%%\n"
    }
   }
  },
  {
   "cell_type": "code",
   "execution_count": 44,
   "outputs": [],
   "source": [
    "def random_forest(x_train, x_test, y_train, y_test):\n",
    "    from sklearn.ensemble import RandomForestClassifier\n",
    "    from sklearn.metrics import classification_report, confusion_matrix\n",
    "\n",
    "    #fit\n",
    "    model = RandomForestClassifier(n_estimators=500, max_leaf_nodes=16, n_jobs=-1)\n",
    "    model.fit(x_train, y_train)\n",
    "\n",
    "    #test\n",
    "    predict = model.predict(x_test)\n",
    "    print(classification_report(y_test, predict))\n",
    "    print(confusion_matrix(y_test, predict))"
   ],
   "metadata": {
    "collapsed": false,
    "pycharm": {
     "name": "#%%\n"
    }
   }
  },
  {
   "cell_type": "code",
   "execution_count": 46,
   "outputs": [],
   "source": [
    "def naive(x_train, x_test, y_train, y_test):\n",
    "    from sklearn.naive_bayes import GaussianNB\n",
    "    from sklearn.metrics import classification_report, confusion_matrix\n",
    "\n",
    "\n",
    "    #fit\n",
    "    model = GaussianNB()\n",
    "    model.fit(x_train, y_train)\n",
    "\n",
    "    #test\n",
    "    predict = model.predict(x_test)\n",
    "    print(classification_report(y_test, predict))\n",
    "    print(confusion_matrix(y_test, predict))"
   ],
   "metadata": {
    "collapsed": false,
    "pycharm": {
     "name": "#%%\n"
    }
   }
  },
  {
   "cell_type": "code",
   "execution_count": 47,
   "outputs": [],
   "source": [
    "def log_reg(x_train, x_test, y_train, y_test):\n",
    "    from sklearn.metrics import classification_report, confusion_matrix\n",
    "    from sklearn.linear_model import LogisticRegression\n",
    "\n",
    "\n",
    "    #fit\n",
    "    model = LogisticRegression()\n",
    "    model.fit(x_train, y_train)\n",
    "\n",
    "    #test\n",
    "    predict = model.predict(x_test)\n",
    "    con_mat = confusion_matrix(y_test, predict)\n",
    "    sns.heatmap(con_mat, annot=True)\n",
    "    print(classification_report(y_test, predict))"
   ],
   "metadata": {
    "collapsed": false,
    "pycharm": {
     "name": "#%%\n"
    }
   }
  },
  {
   "cell_type": "code",
   "execution_count": 48,
   "outputs": [],
   "source": [
    "def svm(x_train, x_test, y_train, y_test):\n",
    "    from sklearn.linear_model import SGDClassifier\n",
    "    from sklearn.metrics import accuracy_score\n",
    "    from sklearn.metrics import classification_report, confusion_matrix\n",
    "\n",
    "    # Instantiate SVM classifier using SGDClassifier\n",
    "    svm = SGDClassifier(loss='hinge')\n",
    "\n",
    "    #fit\n",
    "    svm.fit(x_train, y_train)\n",
    "\n",
    "    #test\n",
    "    predict = svm.predict(x_test)\n",
    "    print(confusion_matrix(y_test, predict))\n",
    "    print(classification_report(y_test, predict))\n",
    "    print('Accuracy: %.3f' % accuracy_score(y_test, predict))"
   ],
   "metadata": {
    "collapsed": false,
    "pycharm": {
     "name": "#%%\n"
    }
   }
  },
  {
   "cell_type": "code",
   "execution_count": 49,
   "outputs": [],
   "source": [
    "def knn(x_train, x_test, y_train, y_test):\n",
    "    from sklearn.neighbors import KNeighborsClassifier\n",
    "    from sklearn.preprocessing import StandardScaler\n",
    "    from sklearn.metrics import classification_report, confusion_matrix\n",
    "\n",
    "    #fit\n",
    "    scaler = StandardScaler()\n",
    "    scaler.fit(x_train)\n",
    "    x_train_scaled = scaler.transform(x_train)\n",
    "    x_test_scaled = scaler.transform(x_test)\n",
    "\n",
    "    classifier = KNeighborsClassifier(n_neighbors=5)\n",
    "    classifier.fit(x_train_scaled, y_train)\n",
    "\n",
    "    #test\n",
    "    predict = classifier.predict(x_test_scaled)\n",
    "    #con_mat = confusion_matrix(y_test,predict)\n",
    "    #sns.heatmap(con_mat, annot=True)\n",
    "    print(confusion_matrix(y_test, predict))\n",
    "    print(classification_report(y_test, predict))"
   ],
   "metadata": {
    "collapsed": false,
    "pycharm": {
     "name": "#%%\n"
    }
   }
  },
  {
   "cell_type": "code",
   "execution_count": 50,
   "outputs": [],
   "source": [
    "def decision_tree(x_train, x_test, y_train, y_test):\n",
    "    from sklearn.tree import DecisionTreeClassifier\n",
    "    from sklearn.metrics import classification_report, confusion_matrix\n",
    "\n",
    "    #fit\n",
    "    classifier = DecisionTreeClassifier()\n",
    "    classifier.fit(x_train, y_train)\n",
    "\n",
    "    #test\n",
    "    predict = classifier.predict(x_test)\n",
    "    print(confusion_matrix(y_test, predict))\n",
    "    print(classification_report(y_test, predict))"
   ],
   "metadata": {
    "collapsed": false,
    "pycharm": {
     "name": "#%%\n"
    }
   }
  },
  {
   "cell_type": "code",
   "execution_count": 51,
   "outputs": [
    {
     "name": "stdout",
     "output_type": "stream",
     "text": [
      "              precision    recall  f1-score   support\n",
      "\n",
      "           0       0.74      0.80      0.77      4811\n",
      "           1       0.97      0.87      0.92      4811\n",
      "           2       0.60      0.70      0.65      4796\n",
      "           3       0.65      0.89      0.75      4740\n",
      "           4       0.51      0.74      0.60      4792\n",
      "           5       0.96      0.84      0.90      4812\n",
      "           6       0.63      0.01      0.03      4805\n",
      "           7       0.86      0.90      0.88      4840\n",
      "           8       0.90      0.93      0.91      4790\n",
      "           9       0.87      0.93      0.90      4803\n",
      "\n",
      "    accuracy                           0.76     48000\n",
      "   macro avg       0.77      0.76      0.73     48000\n",
      "weighted avg       0.77      0.76      0.73     48000\n",
      "\n",
      "[[3839   20  206  605   23    2   13    0  103    0]\n",
      " [   9 4193   95  503    5    1    1    0    4    0]\n",
      " [  59    7 3373   54 1225    5    4    0   69    0]\n",
      " [ 130   44  201 4206  120    1   12    0   26    0]\n",
      " [  17   12  617  579 3529    3    4    0   31    0]\n",
      " [   2    6    0    8    0 4065    0  410   62  259]\n",
      " [1097   13  981  447 2007    3   64    0  193    0]\n",
      " [   0    0    0    0    0   78    0 4345    8  409]\n",
      " [  13   15  143   86   18   54    4   15 4438    4]\n",
      " [   1    0    0    5    1   42    0  290   19 4445]]\n"
     ]
    }
   ],
   "source": [
    "from sklearn.model_selection import train_test_split\n",
    "x_train, x_test, y_train, y_test = train_test_split(x, y, test_size=0.20, random_state=0)\n"
   ],
   "metadata": {
    "collapsed": false,
    "pycharm": {
     "name": "#%%\n"
    }
   }
  },
  {
   "cell_type": "code",
   "execution_count": null,
   "outputs": [],
   "source": [
    "from sklearn.decomposition import PCA\n",
    "\n",
    "#fit\n",
    "pca= PCA(n_components=0.95)\n",
    "x_pca_train = pca.fit_transform(x_train)\n",
    "x_pca_test = pca.transform(x_test)"
   ],
   "metadata": {
    "collapsed": false,
    "pycharm": {
     "name": "#%%\n"
    }
   }
  },
  {
   "cell_type": "code",
   "execution_count": null,
   "outputs": [],
   "source": [
    "#without pca\n",
    "random_forest(x_train, x_test, y_train, y_test)"
   ],
   "metadata": {
    "collapsed": false,
    "pycharm": {
     "name": "#%%\n"
    }
   }
  },
  {
   "cell_type": "code",
   "execution_count": null,
   "outputs": [],
   "source": [
    "#with pca\n",
    "random_forest(x_pca_train, x_pca_test, y_train, y_test)"
   ],
   "metadata": {
    "collapsed": false,
    "pycharm": {
     "name": "#%%\n"
    }
   }
  },
  {
   "cell_type": "code",
   "execution_count": null,
   "outputs": [],
   "source": [
    "#without pca\n",
    "naive(x_train, x_test, y_train, y_test)"
   ],
   "metadata": {
    "collapsed": false,
    "pycharm": {
     "name": "#%%\n"
    }
   }
  },
  {
   "cell_type": "code",
   "execution_count": null,
   "outputs": [],
   "source": [
    "#with pca\n",
    "naive(x_pca_train, x_pca_test, y_train, y_test)"
   ],
   "metadata": {
    "collapsed": false,
    "pycharm": {
     "name": "#%%\n"
    }
   }
  },
  {
   "cell_type": "code",
   "execution_count": null,
   "outputs": [],
   "source": [
    "#without pca\n",
    "#log_reg(x_train, x_test, y_train, y_test)"
   ],
   "metadata": {
    "collapsed": false,
    "pycharm": {
     "name": "#%%\n"
    }
   }
  },
  {
   "cell_type": "code",
   "execution_count": null,
   "outputs": [],
   "source": [
    "#without pca\n",
    "svm(x_train, x_test, y_train, y_test)"
   ],
   "metadata": {
    "collapsed": false,
    "pycharm": {
     "name": "#%%\n"
    }
   }
  },
  {
   "cell_type": "code",
   "execution_count": null,
   "outputs": [],
   "source": [
    "#with pca\n",
    "svm(x_pca_train, x_pca_test, y_train, y_test)"
   ],
   "metadata": {
    "collapsed": false,
    "pycharm": {
     "name": "#%%\n"
    }
   }
  },
  {
   "cell_type": "code",
   "execution_count": null,
   "outputs": [],
   "source": [
    "#without pca\n",
    "knn(x_train, x_test, y_train, y_test)"
   ],
   "metadata": {
    "collapsed": false,
    "pycharm": {
     "name": "#%%\n"
    }
   }
  },
  {
   "cell_type": "code",
   "execution_count": null,
   "outputs": [],
   "source": [
    "#with pca\n",
    "knn(x_train, x_test, y_train, y_test)"
   ],
   "metadata": {
    "collapsed": false,
    "pycharm": {
     "name": "#%%\n"
    }
   }
  },
  {
   "cell_type": "code",
   "execution_count": null,
   "outputs": [],
   "source": [
    "#without pca\n",
    "decision_tree(x_train, x_test, y_train, y_test)"
   ],
   "metadata": {
    "collapsed": false,
    "pycharm": {
     "name": "#%%\n"
    }
   }
  },
  {
   "cell_type": "code",
   "execution_count": null,
   "outputs": [],
   "source": [
    "#with pca\n",
    "decision_tree(x_train, x_test, y_train, y_test)"
   ],
   "metadata": {
    "collapsed": false,
    "pycharm": {
     "name": "#%%\n"
    }
   }
  }
 ],
 "metadata": {
  "kernelspec": {
   "display_name": "Python 3",
   "language": "python",
   "name": "python3"
  },
  "language_info": {
   "codemirror_mode": {
    "name": "ipython",
    "version": 2
   },
   "file_extension": ".py",
   "mimetype": "text/x-python",
   "name": "python",
   "nbconvert_exporter": "python",
   "pygments_lexer": "ipython2",
   "version": "2.7.6"
  }
 },
 "nbformat": 4,
 "nbformat_minor": 0
}