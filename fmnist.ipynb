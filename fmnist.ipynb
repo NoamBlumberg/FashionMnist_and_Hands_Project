{
 "cells": [
  {
   "cell_type": "code",
   "execution_count": 44,
   "outputs": [],
   "source": [
    "import numpy as np\n",
    "import pandas as pd\n",
    "import seaborn as sns\n",
    "import matplotlib.pyplot as plt\n",
    "%matplotlib inline\n",
    "#import sklearn as skl\n",
    "#from sklearn.metrics import confusion_matrix, classification_report, accuracy_score\n",
    "#from sklearn import metrics\n"
   ],
   "metadata": {
    "collapsed": false,
    "pycharm": {
     "name": "#%%\n"
    }
   }
  },
  {
   "cell_type": "code",
   "execution_count": 45,
   "outputs": [],
   "source": [
    "df = pd.read_csv('DF/FMnist/fashion-mnist_train.csv', dtype=int) # read train data"
   ],
   "metadata": {
    "collapsed": false,
    "pycharm": {
     "name": "#%%\n"
    }
   }
  },
  {
   "cell_type": "code",
   "execution_count": 46,
   "outputs": [
    {
     "name": "stdout",
     "output_type": "stream",
     "text": [
      "<class 'pandas.core.frame.DataFrame'>\n",
      "RangeIndex: 60000 entries, 0 to 59999\n",
      "Columns: 785 entries, label to pixel784\n",
      "dtypes: int64(785)\n",
      "memory usage: 359.3 MB\n"
     ]
    }
   ],
   "source": [
    "df.info()"
   ],
   "metadata": {
    "collapsed": false,
    "pycharm": {
     "name": "#%%\n"
    }
   }
  },
  {
   "cell_type": "code",
   "execution_count": 47,
   "outputs": [],
   "source": [
    "x = df.drop(\"label\",axis = 1)\n",
    "y = df.label"
   ],
   "metadata": {
    "collapsed": false,
    "pycharm": {
     "name": "#%%\n"
    }
   }
  },
  {
   "cell_type": "code",
   "execution_count": 48,
   "outputs": [],
   "source": [
    "def random_forest(x_train, x_test, y_train, y_test):\n",
    "    from sklearn.ensemble import RandomForestClassifier\n",
    "    from sklearn.metrics import classification_report, confusion_matrix, accuracy_score\n",
    "\n",
    "    #fit\n",
    "    model = RandomForestClassifier(n_estimators=500, max_leaf_nodes=16, n_jobs=-1)\n",
    "    model.fit(x_train, y_train)\n",
    "\n",
    "    #test\n",
    "    predict = model.predict(x_test)\n",
    "    print(classification_report(y_test, predict))\n",
    "    print(confusion_matrix(y_test, predict))\n",
    "    print('Accuracy: %.3f' % accuracy_score(y_test, predict))"
   ],
   "metadata": {
    "collapsed": false,
    "pycharm": {
     "name": "#%%\n"
    }
   }
  },
  {
   "cell_type": "code",
   "execution_count": 49,
   "outputs": [],
   "source": [
    "def svm(x_train, x_test, y_train, y_test):\n",
    "    from sklearn.linear_model import SGDClassifier\n",
    "    from sklearn.metrics import classification_report, confusion_matrix, accuracy_score\n",
    "\n",
    "    # Instantiate SVM classifier using SGDClassifier\n",
    "    svm = SGDClassifier(loss='hinge')\n",
    "\n",
    "    #fit\n",
    "    svm.fit(x_train, y_train)\n",
    "\n",
    "    #test\n",
    "    predict = svm.predict(x_test)\n",
    "    print(confusion_matrix(y_test, predict))\n",
    "    print(classification_report(y_test, predict))\n",
    "    print('Accuracy: %.3f' % accuracy_score(y_test, predict))"
   ],
   "metadata": {
    "collapsed": false,
    "pycharm": {
     "name": "#%%\n"
    }
   }
  },
  {
   "cell_type": "code",
   "execution_count": 50,
   "outputs": [],
   "source": [
    "def svmCV(X, y):\n",
    "    from sklearn.linear_model import SGDClassifier\n",
    "    from sklearn.metrics import classification_report, confusion_matrix, accuracy_score\n",
    "    from sklearn.model_selection import KFold\n",
    "\n",
    "    kf = KFold(n_splits=5,shuffle=False)\n",
    "    kf.split(X)\n",
    "    svm = SGDClassifier(loss='hinge')\n",
    "    # Initialize the accuracy of the models to blank list. The accuracy of each model will be appended to this list\n",
    "    accuracy_model = []\n",
    "\n",
    "    # Iterate over each train-test split\n",
    "    for train_index, test_index in kf.split(X):\n",
    "        # Split train-test\n",
    "        X_train, X_test = X.iloc[train_index], X.iloc[test_index]\n",
    "        y_train, y_test = y[train_index], y[test_index]\n",
    "        # Train the model\n",
    "        svm.fit(x_train, y_train)\n",
    "        # Append to accuracy_model the accuracy of the model\n",
    "        accuracy_model.append(accuracy_score(y_test, svm.predict(X_test), normalize=True)*100)\n",
    "\n",
    "    # Print the accuracy\n",
    "    print(accuracy_model)"
   ],
   "metadata": {
    "collapsed": false,
    "pycharm": {
     "name": "#%%\n"
    }
   }
  },
  {
   "cell_type": "code",
   "execution_count": 51,
   "outputs": [],
   "source": [
    "def naive(x_train, x_test, y_train, y_test):\n",
    "    from sklearn.naive_bayes import GaussianNB\n",
    "    from sklearn.metrics import classification_report, confusion_matrix, accuracy_score\n",
    "\n",
    "\n",
    "    #fit\n",
    "    model = GaussianNB()\n",
    "    model.fit(x_train, y_train)\n",
    "\n",
    "    #test\n",
    "    predict = model.predict(x_test)\n",
    "    con_mat = confusion_matrix(y_test, predict)\n",
    "    sns.heatmap(con_mat, annot=True)\n",
    "    print(con_mat)\n",
    "    print(classification_report(y_test, predict))\n",
    "    print('Accuracy: %.3f' % accuracy_score(y_test, predict))\n"
   ],
   "metadata": {
    "collapsed": false,
    "pycharm": {
     "name": "#%%\n"
    }
   }
  },
  {
   "cell_type": "code",
   "execution_count": 52,
   "outputs": [],
   "source": [
    "def log_reg(x_train, x_test, y_train, y_test):\n",
    "    from sklearn.metrics import classification_report, confusion_matrix, accuracy_score\n",
    "    from sklearn.linear_model import LogisticRegression\n",
    "\n",
    "\n",
    "    #fit\n",
    "    #model = LogisticRegression(max_iter=70000)\n",
    "    model = LogisticRegression()\n",
    "    model.fit(x_train, y_train)\n",
    "\n",
    "    #test\n",
    "    predict = model.predict(x_test)\n",
    "    con_mat = confusion_matrix(y_test, predict)\n",
    "    sns.heatmap(con_mat, annot=True)\n",
    "    print(classification_report(y_test, predict))\n",
    "    print('Accuracy: %.3f' % accuracy_score(y_test, predict))"
   ],
   "metadata": {
    "collapsed": false,
    "pycharm": {
     "name": "#%%\n"
    }
   }
  },
  {
   "cell_type": "code",
   "execution_count": 53,
   "outputs": [],
   "source": [
    "def decision_tree(x_train, x_test, y_train, y_test):\n",
    "    from sklearn.tree import DecisionTreeClassifier\n",
    "    from sklearn.metrics import classification_report, confusion_matrix, accuracy_score\n",
    "\n",
    "    #fit\n",
    "    classifier = DecisionTreeClassifier()\n",
    "    classifier.fit(x_train, y_train)\n",
    "\n",
    "    #test\n",
    "    predict = classifier.predict(x_test)\n",
    "    print(confusion_matrix(y_test, predict))\n",
    "    print(classification_report(y_test, predict))\n",
    "    print('Accuracy: %.3f' % accuracy_score(y_test, predict))"
   ],
   "metadata": {
    "collapsed": false,
    "pycharm": {
     "name": "#%%\n"
    }
   }
  },
  {
   "cell_type": "code",
   "execution_count": 54,
   "outputs": [],
   "source": [
    "from sklearn.model_selection import train_test_split\n",
    "x_train, x_test, y_train, y_test = train_test_split(x, y, test_size=0.20, random_state=0)\n"
   ],
   "metadata": {
    "collapsed": false,
    "pycharm": {
     "name": "#%%\n"
    }
   }
  },
  {
   "cell_type": "code",
   "execution_count": 55,
   "outputs": [],
   "source": [
    "from sklearn.decomposition import PCA\n",
    "\n",
    "#fit\n",
    "pca= PCA(n_components=0.95)\n",
    "x_pca_train = pca.fit_transform(x_train)\n",
    "x_pca_test = pca.transform(x_test)"
   ],
   "metadata": {
    "collapsed": false,
    "pycharm": {
     "name": "#%%\n"
    }
   }
  },
  {
   "cell_type": "code",
   "execution_count": 56,
   "outputs": [
    {
     "name": "stdout",
     "output_type": "stream",
     "text": [
      "              precision    recall  f1-score   support\n",
      "\n",
      "           0       0.73      0.79      0.76      1189\n",
      "           1       0.97      0.87      0.92      1189\n",
      "           2       0.59      0.71      0.65      1204\n",
      "           3       0.66      0.90      0.76      1260\n",
      "           4       0.53      0.73      0.61      1208\n",
      "           5       0.95      0.85      0.90      1188\n",
      "           6       0.75      0.01      0.02      1195\n",
      "           7       0.86      0.89      0.87      1160\n",
      "           8       0.89      0.91      0.90      1210\n",
      "           9       0.87      0.93      0.90      1197\n",
      "\n",
      "    accuracy                           0.76     12000\n",
      "   macro avg       0.78      0.76      0.73     12000\n",
      "weighted avg       0.78      0.76      0.73     12000\n",
      "\n",
      "[[ 939   10   51  153    3    1    2    0   30    0]\n",
      " [   0 1033   29  122    2    2    0    0    1    0]\n",
      " [  11    0  860   16  292    1    1    0   23    0]\n",
      " [  38    8   48 1131   28    0    1    0    6    0]\n",
      " [   2    5  152  149  887    0    0    0   13    0]\n",
      " [   0    1    0    1    0 1005    0  110   17   54]\n",
      " [ 289    4  268  113  462    2   15    0   42    0]\n",
      " [   0    0    0    0    0   17    0 1036    3  104]\n",
      " [   7    1   46   35    6   12    1    4 1096    2]\n",
      " [   1    0    0    0    0   13    0   61    3 1119]]\n",
      "Accuracy: 0.760\n"
     ]
    }
   ],
   "source": [
    "#without pca\n",
    "random_forest(x_train, x_test, y_train, y_test)"
   ],
   "metadata": {
    "collapsed": false,
    "pycharm": {
     "name": "#%%\n"
    }
   }
  },
  {
   "cell_type": "code",
   "execution_count": 57,
   "outputs": [
    {
     "name": "stdout",
     "output_type": "stream",
     "text": [
      "              precision    recall  f1-score   support\n",
      "\n",
      "           0       0.66      0.80      0.72      1189\n",
      "           1       0.98      0.91      0.94      1189\n",
      "           2       0.66      0.69      0.68      1204\n",
      "           3       0.77      0.83      0.80      1260\n",
      "           4       0.64      0.69      0.67      1208\n",
      "           5       0.73      0.80      0.76      1188\n",
      "           6       0.63      0.27      0.38      1195\n",
      "           7       0.82      0.83      0.83      1160\n",
      "           8       0.83      0.91      0.87      1210\n",
      "           9       0.87      0.88      0.88      1197\n",
      "\n",
      "    accuracy                           0.76     12000\n",
      "   macro avg       0.76      0.76      0.75     12000\n",
      "weighted avg       0.76      0.76      0.75     12000\n",
      "\n",
      "[[ 948    6   15  120    9   27   20    0   38    6]\n",
      " [  14 1086   25   50    7    6    1    0    0    0]\n",
      " [  50    1  831    9  180   22   64    0   46    1]\n",
      " [  66   17    6 1052   65   10   33    0    7    4]\n",
      " [   9    1  191   59  837   17   57    0   35    2]\n",
      " [   0    0    2    1    8  945    4  132   33   63]\n",
      " [ 337    1  178   64  183   46  328    0   56    2]\n",
      " [   1    0    0    0    2  109    0  968    6   74]\n",
      " [  10    0    6   14   11   44   13   13 1096    3]\n",
      " [   0    0    0    0    1   63    0   70    5 1058]]\n",
      "Accuracy: 0.762\n"
     ]
    }
   ],
   "source": [
    "#with pca\n",
    "random_forest(x_pca_train, x_pca_test, y_train, y_test)"
   ],
   "metadata": {
    "collapsed": false,
    "pycharm": {
     "name": "#%%\n"
    }
   }
  },
  {
   "cell_type": "code",
   "execution_count": 58,
   "outputs": [
    {
     "name": "stdout",
     "output_type": "stream",
     "text": [
      "[[ 729   50   37  229   87    1   25    0   31    0]\n",
      " [   2 1117   12   43    3    0   11    0    1    0]\n",
      " [   2   10  409   87  651    0   15    0   30    0]\n",
      " [   5  427    6  772   40    0    8    0    2    0]\n",
      " [   1   42   55  206  890    0    3    0   11    0]\n",
      " [   0    2    2    3    0  331    5  806    7   32]\n",
      " [ 138   36  156  261  505    0   42    0   57    0]\n",
      " [   0    0    0    0    0    8    0 1126    4   22]\n",
      " [   3    2   20  111  168   10   22    2  870    2]\n",
      " [   0    0    3    1    1   33    4  337    5  813]]\n",
      "              precision    recall  f1-score   support\n",
      "\n",
      "           0       0.83      0.61      0.70      1189\n",
      "           1       0.66      0.94      0.78      1189\n",
      "           2       0.58      0.34      0.43      1204\n",
      "           3       0.45      0.61      0.52      1260\n",
      "           4       0.38      0.74      0.50      1208\n",
      "           5       0.86      0.28      0.42      1188\n",
      "           6       0.31      0.04      0.06      1195\n",
      "           7       0.50      0.97      0.66      1160\n",
      "           8       0.85      0.72      0.78      1210\n",
      "           9       0.94      0.68      0.79      1197\n",
      "\n",
      "    accuracy                           0.59     12000\n",
      "   macro avg       0.64      0.59      0.56     12000\n",
      "weighted avg       0.64      0.59      0.56     12000\n",
      "\n",
      "Accuracy: 0.592\n"
     ]
    },
    {
     "data": {
      "text/plain": "<Figure size 432x288 with 2 Axes>",
      "image/png": "[encoded data removed]"
     },
     "metadata": {
      "needs_background": "light"
     },
     "output_type": "display_data"
    }
   ],
   "source": [
    "#without pca\n",
    "naive(x_train, x_test, y_train, y_test)"
   ],
   "metadata": {
    "collapsed": false,
    "pycharm": {
     "name": "#%%\n"
    }
   }
  },
  {
   "cell_type": "code",
   "execution_count": 59,
   "outputs": [
    {
     "name": "stdout",
     "output_type": "stream",
     "text": [
      "[[ 866    4   18   63    4    8   74    0  152    0]\n",
      " [   8 1056   12   57    1    4   13    0   38    0]\n",
      " [  26    0  801    6  155   19  106    0   91    0]\n",
      " [  64   68   10  939   41   24   42    0   72    0]\n",
      " [   8    3  114   59  804    4  128    0   88    0]\n",
      " [  11    0   10    1    0  881   42  200   34    9]\n",
      " [ 197    7  125   39   90   23  539    0  175    0]\n",
      " [   0    0    0    0    0  109    0  982    6   63]\n",
      " [  26    0   22   11   28   28   44   36 1013    2]\n",
      " [   0    0    1    0    0   39   10  102   37 1008]]\n",
      "              precision    recall  f1-score   support\n",
      "\n",
      "           0       0.72      0.73      0.72      1189\n",
      "           1       0.93      0.89      0.91      1189\n",
      "           2       0.72      0.67      0.69      1204\n",
      "           3       0.80      0.75      0.77      1260\n",
      "           4       0.72      0.67      0.69      1208\n",
      "           5       0.77      0.74      0.76      1188\n",
      "           6       0.54      0.45      0.49      1195\n",
      "           7       0.74      0.85      0.79      1160\n",
      "           8       0.59      0.84      0.69      1210\n",
      "           9       0.93      0.84      0.88      1197\n",
      "\n",
      "    accuracy                           0.74     12000\n",
      "   macro avg       0.75      0.74      0.74     12000\n",
      "weighted avg       0.75      0.74      0.74     12000\n",
      "\n",
      "Accuracy: 0.741\n"
     ]
    },
    {
     "data": {
      "text/plain": "<Figure size 432x288 with 2 Axes>",
      "image/png": "[encoded data removed]"
     },
     "metadata": {
      "needs_background": "light"
     },
     "output_type": "display_data"
    }
   ],
   "source": [
    "#with pca\n",
    "naive(x_pca_train, x_pca_test, y_train, y_test)"
   ],
   "metadata": {
    "collapsed": false,
    "pycharm": {
     "name": "#%%\n"
    }
   }
  },
  {
   "cell_type": "code",
   "execution_count": 60,
   "outputs": [
    {
     "name": "stderr",
     "output_type": "stream",
     "text": [
      "/home/pequeno/pythonProject/Project/pythonProject1/lib64/python3.8/site-packages/sklearn/linear_model/_logistic.py:762: ConvergenceWarning: lbfgs failed to converge (status=1):\n",
      "STOP: TOTAL NO. of ITERATIONS REACHED LIMIT.\n",
      "\n",
      "Increase the number of iterations (max_iter) or scale the data as shown in:\n",
      "    https://scikit-learn.org/stable/modules/preprocessing.html\n",
      "Please also refer to the documentation for alternative solver options:\n",
      "    https://scikit-learn.org/stable/modules/linear_model.html#logistic-regression\n",
      "  n_iter_i = _check_optimize_result(\n"
     ]
    },
    {
     "name": "stdout",
     "output_type": "stream",
     "text": [
      "              precision    recall  f1-score   support\n",
      "\n",
      "           0       0.80      0.82      0.81      1189\n",
      "           1       0.97      0.97      0.97      1189\n",
      "           2       0.74      0.78      0.76      1204\n",
      "           3       0.86      0.87      0.86      1260\n",
      "           4       0.73      0.78      0.75      1208\n",
      "           5       0.94      0.90      0.92      1188\n",
      "           6       0.66      0.55      0.60      1195\n",
      "           7       0.91      0.93      0.92      1160\n",
      "           8       0.93      0.94      0.93      1210\n",
      "           9       0.93      0.94      0.93      1197\n",
      "\n",
      "    accuracy                           0.85     12000\n",
      "   macro avg       0.85      0.85      0.85     12000\n",
      "weighted avg       0.85      0.85      0.85     12000\n",
      "\n",
      "Accuracy: 0.847\n"
     ]
    },
    {
     "data": {
      "text/plain": "<Figure size 432x288 with 2 Axes>",
      "image/png": "[encoded data removed]"
     },
     "metadata": {
      "needs_background": "light"
     },
     "output_type": "display_data"
    }
   ],
   "source": [
    "#without pca\n",
    "log_reg(x_train, x_test, y_train, y_test)"
   ],
   "metadata": {
    "collapsed": false,
    "pycharm": {
     "name": "#%%\n"
    }
   }
  },
  {
   "cell_type": "code",
   "execution_count": 61,
   "outputs": [
    {
     "name": "stderr",
     "output_type": "stream",
     "text": [
      "/home/pequeno/pythonProject/Project/pythonProject1/lib64/python3.8/site-packages/sklearn/linear_model/_logistic.py:762: ConvergenceWarning: lbfgs failed to converge (status=1):\n",
      "STOP: TOTAL NO. of ITERATIONS REACHED LIMIT.\n",
      "\n",
      "Increase the number of iterations (max_iter) or scale the data as shown in:\n",
      "    https://scikit-learn.org/stable/modules/preprocessing.html\n",
      "Please also refer to the documentation for alternative solver options:\n",
      "    https://scikit-learn.org/stable/modules/linear_model.html#logistic-regression\n",
      "  n_iter_i = _check_optimize_result(\n"
     ]
    },
    {
     "name": "stdout",
     "output_type": "stream",
     "text": [
      "              precision    recall  f1-score   support\n",
      "\n",
      "           0       0.79      0.83      0.81      1189\n",
      "           1       0.98      0.97      0.97      1189\n",
      "           2       0.74      0.77      0.75      1204\n",
      "           3       0.87      0.87      0.87      1260\n",
      "           4       0.76      0.77      0.76      1208\n",
      "           5       0.93      0.94      0.94      1188\n",
      "           6       0.64      0.58      0.61      1195\n",
      "           7       0.91      0.91      0.91      1160\n",
      "           8       0.95      0.94      0.94      1210\n",
      "           9       0.94      0.95      0.94      1197\n",
      "\n",
      "    accuracy                           0.85     12000\n",
      "   macro avg       0.85      0.85      0.85     12000\n",
      "weighted avg       0.85      0.85      0.85     12000\n",
      "\n",
      "Accuracy: 0.852\n"
     ]
    },
    {
     "data": {
      "text/plain": "<Figure size 432x288 with 2 Axes>",
      "image/png": "[encoded data removed]"
     },
     "metadata": {
      "needs_background": "light"
     },
     "output_type": "display_data"
    }
   ],
   "source": [
    "#with pca\n",
    "log_reg(x_pca_train, x_pca_test, y_train, y_test)"
   ],
   "metadata": {
    "collapsed": false,
    "pycharm": {
     "name": "#%%\n"
    }
   }
  },
  {
   "cell_type": "code",
   "execution_count": 62,
   "outputs": [
    {
     "name": "stdout",
     "output_type": "stream",
     "text": [
      "[[ 957    2    5  163    5    0   38    0   19    0]\n",
      " [  16 1061    2  100    4    0    6    0    0    0]\n",
      " [  95    2  577   81  231    0  210    0    8    0]\n",
      " [  30    3    1 1212    5    0    6    1    1    1]\n",
      " [  11    0   27  253  773    0  138    0    6    0]\n",
      " [   4    2    1    2    0 1085    4   31   29   30]\n",
      " [ 233    3   45  191   91    0  603    0   29    0]\n",
      " [   1    0    1    0    0  141    2  928    6   81]\n",
      " [  20    1    3   35    4    9   22    3 1111    2]\n",
      " [   0    0    0    1    1   44    0   15    3 1133]]\n",
      "              precision    recall  f1-score   support\n",
      "\n",
      "           0       0.70      0.80      0.75      1189\n",
      "           1       0.99      0.89      0.94      1189\n",
      "           2       0.87      0.48      0.62      1204\n",
      "           3       0.59      0.96      0.73      1260\n",
      "           4       0.69      0.64      0.67      1208\n",
      "           5       0.85      0.91      0.88      1188\n",
      "           6       0.59      0.50      0.54      1195\n",
      "           7       0.95      0.80      0.87      1160\n",
      "           8       0.92      0.92      0.92      1210\n",
      "           9       0.91      0.95      0.93      1197\n",
      "\n",
      "    accuracy                           0.79     12000\n",
      "   macro avg       0.81      0.79      0.78     12000\n",
      "weighted avg       0.80      0.79      0.78     12000\n",
      "\n",
      "Accuracy: 0.787\n"
     ]
    }
   ],
   "source": [
    "#without pca\n",
    "svm(x_train, x_test, y_train, y_test)"
   ],
   "metadata": {
    "collapsed": false,
    "pycharm": {
     "name": "#%%\n"
    }
   }
  },
  {
   "cell_type": "code",
   "execution_count": 63,
   "outputs": [
    {
     "name": "stdout",
     "output_type": "stream",
     "text": [
      "[12.208333333333334, 13.116666666666665, 10.225, 8.291666666666666, 14.383333333333335]\n"
     ]
    }
   ],
   "source": [
    "svmCV(x, y)"
   ],
   "metadata": {
    "collapsed": false,
    "pycharm": {
     "name": "#%%\n"
    }
   }
  },
  {
   "cell_type": "code",
   "execution_count": 64,
   "outputs": [
    {
     "name": "stdout",
     "output_type": "stream",
     "text": [
      "[[ 756    1   59  134   14    2  186    7   29    1]\n",
      " [   3 1137   13   25    3    0    5    3    0    0]\n",
      " [   5    2 1013   27   76    3   52    3   23    0]\n",
      " [  37   11   21 1112   45    0   30    4    0    0]\n",
      " [   1    0  396  123  569    1   96    3   18    1]\n",
      " [   4    2    2    1    2 1100    2   56   13    6]\n",
      " [  85    3  261  102   73    1  615    1   53    1]\n",
      " [   0    0    0    0    0   44    0 1079    4   33]\n",
      " [  23    2    7   23   12   11   15   12 1104    1]\n",
      " [   0    1    0    0    0   69    1   48    1 1077]]\n",
      "              precision    recall  f1-score   support\n",
      "\n",
      "           0       0.83      0.64      0.72      1189\n",
      "           1       0.98      0.96      0.97      1189\n",
      "           2       0.57      0.84      0.68      1204\n",
      "           3       0.72      0.88      0.79      1260\n",
      "           4       0.72      0.47      0.57      1208\n",
      "           5       0.89      0.93      0.91      1188\n",
      "           6       0.61      0.51      0.56      1195\n",
      "           7       0.89      0.93      0.91      1160\n",
      "           8       0.89      0.91      0.90      1210\n",
      "           9       0.96      0.90      0.93      1197\n",
      "\n",
      "    accuracy                           0.80     12000\n",
      "   macro avg       0.81      0.80      0.79     12000\n",
      "weighted avg       0.80      0.80      0.79     12000\n",
      "\n",
      "Accuracy: 0.797\n"
     ]
    }
   ],
   "source": [
    "#with pca\n",
    "svm(x_pca_train, x_pca_test, y_train, y_test)"
   ],
   "metadata": {
    "collapsed": false,
    "pycharm": {
     "name": "#%%\n"
    }
   }
  },
  {
   "cell_type": "code",
   "execution_count": 65,
   "outputs": [
    {
     "name": "stdout",
     "output_type": "stream",
     "text": [
      "[[ 893    6   33   60    6    2  170    1   17    1]\n",
      " [   8 1122    8   32    6    0    8    0    5    0]\n",
      " [  23    2  831   14  166    2  158    0    8    0]\n",
      " [  65   40   20 1005   72    2   46    0    9    1]\n",
      " [  11    4  181   65  799    1  137    0    9    1]\n",
      " [   0    3    0    0    1 1069    3   66   12   34]\n",
      " [ 188    8  166   38  138    3  629    1   24    0]\n",
      " [   0    0    0    0    0   64    0 1004    4   88]\n",
      " [  11    2   14   16   18   14   28    9 1093    5]\n",
      " [   0    1    2    0    1   32    2   70    4 1085]]\n",
      "              precision    recall  f1-score   support\n",
      "\n",
      "           0       0.74      0.75      0.75      1189\n",
      "           1       0.94      0.94      0.94      1189\n",
      "           2       0.66      0.69      0.68      1204\n",
      "           3       0.82      0.80      0.81      1260\n",
      "           4       0.66      0.66      0.66      1208\n",
      "           5       0.90      0.90      0.90      1188\n",
      "           6       0.53      0.53      0.53      1195\n",
      "           7       0.87      0.87      0.87      1160\n",
      "           8       0.92      0.90      0.91      1210\n",
      "           9       0.89      0.91      0.90      1197\n",
      "\n",
      "    accuracy                           0.79     12000\n",
      "   macro avg       0.79      0.79      0.79     12000\n",
      "weighted avg       0.79      0.79      0.79     12000\n",
      "\n",
      "Accuracy: 0.794\n"
     ]
    }
   ],
   "source": [
    "#without pca\n",
    "decision_tree(x_train, x_test, y_train, y_test)"
   ],
   "metadata": {
    "collapsed": false,
    "pycharm": {
     "name": "#%%\n"
    }
   }
  },
  {
   "cell_type": "code",
   "execution_count": 66,
   "outputs": [
    {
     "name": "stdout",
     "output_type": "stream",
     "text": [
      "[[ 900    8   26   69   11    3  160    1   11    0]\n",
      " [   7 1125    4   34    6    1   10    0    2    0]\n",
      " [  21    1  833   11  166    0  161    0   11    0]\n",
      " [  62   41   20 1002   66    0   55    0   13    1]\n",
      " [  11    5  187   61  804    1  127    0   11    1]\n",
      " [   0    1    0    1    2 1063    3   69   14   35]\n",
      " [ 187   10  161   46  132    2  627    0   29    1]\n",
      " [   0    0    0    0    0   67    0 1012    3   78]\n",
      " [  15    1   14   12   16   15   26   11 1094    6]\n",
      " [   0    0    2    0    1   33    3   70    3 1085]]\n",
      "              precision    recall  f1-score   support\n",
      "\n",
      "           0       0.75      0.76      0.75      1189\n",
      "           1       0.94      0.95      0.94      1189\n",
      "           2       0.67      0.69      0.68      1204\n",
      "           3       0.81      0.80      0.80      1260\n",
      "           4       0.67      0.67      0.67      1208\n",
      "           5       0.90      0.89      0.90      1188\n",
      "           6       0.53      0.52      0.53      1195\n",
      "           7       0.87      0.87      0.87      1160\n",
      "           8       0.92      0.90      0.91      1210\n",
      "           9       0.90      0.91      0.90      1197\n",
      "\n",
      "    accuracy                           0.80     12000\n",
      "   macro avg       0.80      0.80      0.80     12000\n",
      "weighted avg       0.80      0.80      0.80     12000\n",
      "\n",
      "Accuracy: 0.795\n"
     ]
    }
   ],
   "source": [
    "#with pca\n",
    "decision_tree(x_train, x_test, y_train, y_test)"
   ],
   "metadata": {
    "collapsed": false,
    "pycharm": {
     "name": "#%%\n"
    }
   }
  }
 ],
 "metadata": {
  "kernelspec": {
   "display_name": "Python 3",
   "language": "python",
   "name": "python3"
  },
  "language_info": {
   "codemirror_mode": {
    "name": "ipython",
    "version": 2
   },
   "file_extension": ".py",
   "mimetype": "text/x-python",
   "name": "python",
   "nbconvert_exporter": "python",
   "pygments_lexer": "ipython2",
   "version": "2.7.6"
  }
 },
 "nbformat": 4,
 "nbformat_minor": 0
}