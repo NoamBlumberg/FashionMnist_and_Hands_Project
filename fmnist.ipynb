{
 "cells": [
  {
   "cell_type": "code",
   "execution_count": 1,
   "outputs": [],
   "source": [
    "import numpy as np\n",
    "import pandas as pd\n",
    "import seaborn as sns\n",
    "import matplotlib.pyplot as plt\n",
    "%matplotlib inline\n",
    "#import sklearn as skl\n",
    "#from sklearn.metrics import confusion_matrix, classification_report, accuracy_score\n",
    "#from sklearn import metrics\n"
   ],
   "metadata": {
    "collapsed": false,
    "pycharm": {
     "name": "#%%\n"
    }
   }
  },
  {
   "cell_type": "code",
   "execution_count": 2,
   "outputs": [],
   "source": [
    "df = pd.read_csv('DF/FMnist/fashion-mnist_train.csv', dtype=int) # read train data"
   ],
   "metadata": {
    "collapsed": false,
    "pycharm": {
     "name": "#%%\n"
    }
   }
  },
  {
   "cell_type": "code",
   "execution_count": 3,
   "outputs": [
    {
     "name": "stdout",
     "output_type": "stream",
     "text": [
      "<class 'pandas.core.frame.DataFrame'>\n",
      "RangeIndex: 60000 entries, 0 to 59999\n",
      "Columns: 785 entries, label to pixel784\n",
      "dtypes: int64(785)\n",
      "memory usage: 359.3 MB\n"
     ]
    }
   ],
   "source": [
    "df.info()"
   ],
   "metadata": {
    "collapsed": false,
    "pycharm": {
     "name": "#%%\n"
    }
   }
  },
  {
   "cell_type": "code",
   "execution_count": 4,
   "outputs": [],
   "source": [
    "x = df.drop(\"label\",axis = 1)\n",
    "y = df.label"
   ],
   "metadata": {
    "collapsed": false,
    "pycharm": {
     "name": "#%%\n"
    }
   }
  },
  {
   "cell_type": "code",
   "execution_count": 5,
   "outputs": [],
   "source": [
    "def random_forest(x_train, x_test, y_train, y_test):\n",
    "    from sklearn.ensemble import RandomForestClassifier\n",
    "    from sklearn.metrics import classification_report, confusion_matrix\n",
    "\n",
    "    #fit\n",
    "    model = RandomForestClassifier(n_estimators=500, max_leaf_nodes=16, n_jobs=-1)\n",
    "    model.fit(x_train, y_train)\n",
    "\n",
    "    #test\n",
    "    predict = model.predict(x_test)\n",
    "    print(classification_report(y_test, predict))\n",
    "    print(confusion_matrix(y_test, predict))"
   ],
   "metadata": {
    "collapsed": false,
    "pycharm": {
     "name": "#%%\n"
    }
   }
  },
  {
   "cell_type": "code",
   "execution_count": null,
   "outputs": [],
   "source": [
    "def svm(x_train, x_test, y_train, y_test):\n",
    "    from sklearn.linear_model import SGDClassifier\n",
    "    from sklearn.metrics import accuracy_score\n",
    "    from sklearn.metrics import classification_report, confusion_matrix\n",
    "\n",
    "    # Instantiate SVM classifier using SGDClassifier\n",
    "    svm = SGDClassifier(loss='hinge')\n",
    "\n",
    "    #fit\n",
    "    svm.fit(x_train, y_train)\n",
    "\n",
    "    #test\n",
    "    predict = svm.predict(x_test)\n",
    "    print(confusion_matrix(y_test, predict))\n",
    "    print(classification_report(y_test, predict))\n",
    "    print('Accuracy: %.3f' % accuracy_score(y_test, predict))"
   ],
   "metadata": {
    "collapsed": false,
    "pycharm": {
     "name": "#%%\n"
    }
   }
  },
  {
   "cell_type": "code",
   "execution_count": 6,
   "outputs": [],
   "source": [
    "def naive(x_train, x_test, y_train, y_test):\n",
    "    from sklearn.naive_bayes import GaussianNB\n",
    "    from sklearn.metrics import classification_report, confusion_matrix\n",
    "\n",
    "\n",
    "    #fit\n",
    "    model = GaussianNB()\n",
    "    model.fit(x_train, y_train)\n",
    "\n",
    "    #test\n",
    "    predict = model.predict(x_test)\n",
    "    print(classification_report(y_test, predict))\n",
    "    print(confusion_matrix(y_test, predict))"
   ],
   "metadata": {
    "collapsed": false,
    "pycharm": {
     "name": "#%%\n"
    }
   }
  },
  {
   "cell_type": "code",
   "execution_count": 7,
   "outputs": [],
   "source": [
    "def log_reg(x_train, x_test, y_train, y_test):\n",
    "    from sklearn.metrics import classification_report, confusion_matrix\n",
    "    from sklearn.linear_model import LogisticRegression\n",
    "\n",
    "\n",
    "    #fit\n",
    "    model = LogisticRegression()\n",
    "    model.fit(x_train, y_train)\n",
    "\n",
    "    #test\n",
    "    predict = model.predict(x_test)\n",
    "    con_mat = confusion_matrix(y_test, predict)\n",
    "    sns.heatmap(con_mat, annot=True)\n",
    "    print(classification_report(y_test, predict))"
   ],
   "metadata": {
    "collapsed": false,
    "pycharm": {
     "name": "#%%\n"
    }
   }
  },
  {
   "cell_type": "code",
   "execution_count": 10,
   "outputs": [],
   "source": [
    "def decision_tree(x_train, x_test, y_train, y_test):\n",
    "    from sklearn.tree import DecisionTreeClassifier\n",
    "    from sklearn.metrics import classification_report, confusion_matrix\n",
    "\n",
    "    #fit\n",
    "    classifier = DecisionTreeClassifier()\n",
    "    classifier.fit(x_train, y_train)\n",
    "\n",
    "    #test\n",
    "    predict = classifier.predict(x_test)\n",
    "    print(confusion_matrix(y_test, predict))\n",
    "    print(classification_report(y_test, predict))"
   ],
   "metadata": {
    "collapsed": false,
    "pycharm": {
     "name": "#%%\n"
    }
   }
  },
  {
   "cell_type": "code",
   "execution_count": null,
   "outputs": [],
   "source": [
    "def knn(x_train, x_test, y_train, y_test):\n",
    "    from sklearn.neighbors import KNeighborsClassifier\n",
    "    from sklearn.preprocessing import StandardScaler\n",
    "    from sklearn.metrics import classification_report, confusion_matrix\n",
    "\n",
    "    #fit\n",
    "    scaler = StandardScaler()\n",
    "    scaler.fit(x_train)\n",
    "    x_train_scaled = scaler.transform(x_train)\n",
    "    x_test_scaled = scaler.transform(x_test)\n",
    "\n",
    "    classifier = KNeighborsClassifier(n_neighbors=5)\n",
    "    classifier.fit(x_train_scaled, y_train)\n",
    "\n",
    "    #test\n",
    "    predict = classifier.predict(x_test_scaled)\n",
    "    #con_mat = confusion_matrix(y_test,predict)\n",
    "    #sns.heatmap(con_mat, annot=True)\n",
    "    print(confusion_matrix(y_test, predict))\n",
    "    print(classification_report(y_test, predict))"
   ],
   "metadata": {
    "collapsed": false,
    "pycharm": {
     "name": "#%%\n"
    }
   }
  },
  {
   "cell_type": "code",
   "execution_count": 11,
   "outputs": [],
   "source": [
    "from sklearn.model_selection import train_test_split\n",
    "x_train, x_test, y_train, y_test = train_test_split(x, y, test_size=0.20, random_state=0)\n"
   ],
   "metadata": {
    "collapsed": false,
    "pycharm": {
     "name": "#%%\n"
    }
   }
  },
  {
   "cell_type": "code",
   "execution_count": 12,
   "outputs": [],
   "source": [
    "from sklearn.decomposition import PCA\n",
    "\n",
    "#fit\n",
    "pca= PCA(n_components=0.95)\n",
    "x_pca_train = pca.fit_transform(x_train)\n",
    "x_pca_test = pca.transform(x_test)"
   ],
   "metadata": {
    "collapsed": false,
    "pycharm": {
     "name": "#%%\n"
    }
   }
  },
  {
   "cell_type": "code",
   "execution_count": 13,
   "outputs": [
    {
     "name": "stdout",
     "output_type": "stream",
     "text": [
      "              precision    recall  f1-score   support\n",
      "\n",
      "           0       0.73      0.79      0.76      1189\n",
      "           1       0.97      0.87      0.92      1189\n",
      "           2       0.59      0.73      0.65      1204\n",
      "           3       0.65      0.90      0.76      1260\n",
      "           4       0.53      0.72      0.61      1208\n",
      "           5       0.96      0.85      0.90      1188\n",
      "           6       0.75      0.02      0.03      1195\n",
      "           7       0.85      0.89      0.87      1160\n",
      "           8       0.89      0.91      0.90      1210\n",
      "           9       0.87      0.93      0.90      1197\n",
      "\n",
      "    accuracy                           0.76     12000\n",
      "   macro avg       0.78      0.76      0.73     12000\n",
      "weighted avg       0.78      0.76      0.73     12000\n",
      "\n",
      "[[ 940    9   53  152    2    2    3    0   28    0]\n",
      " [   0 1032   28  126    2    0    0    0    1    0]\n",
      " [  11    0  874   17  275    1    0    0   26    0]\n",
      " [  34    7   48 1140   25    0    2    0    4    0]\n",
      " [   2    4  159  156  874    0    1    0   12    0]\n",
      " [   0    1    0    1    0 1009    0  107   15   55]\n",
      " [ 288    5  266  113  458    2   21    0   42    0]\n",
      " [   0    0    0    0    0   18    0 1035    4  103]\n",
      " [   8    1   47   36    5    9    1    3 1098    2]\n",
      " [   1    0    0    0    0   11    0   66    2 1117]]\n"
     ]
    }
   ],
   "source": [
    "#without pca\n",
    "random_forest(x_train, x_test, y_train, y_test)"
   ],
   "metadata": {
    "collapsed": false,
    "pycharm": {
     "name": "#%%\n"
    }
   }
  },
  {
   "cell_type": "code",
   "execution_count": 14,
   "outputs": [
    {
     "name": "stdout",
     "output_type": "stream",
     "text": [
      "              precision    recall  f1-score   support\n",
      "\n",
      "           0       0.66      0.79      0.72      1189\n",
      "           1       0.97      0.91      0.94      1189\n",
      "           2       0.67      0.70      0.69      1204\n",
      "           3       0.77      0.83      0.80      1260\n",
      "           4       0.63      0.68      0.66      1208\n",
      "           5       0.74      0.80      0.77      1188\n",
      "           6       0.64      0.29      0.40      1195\n",
      "           7       0.83      0.83      0.83      1160\n",
      "           8       0.82      0.91      0.86      1210\n",
      "           9       0.88      0.89      0.88      1197\n",
      "\n",
      "    accuracy                           0.76     12000\n",
      "   macro avg       0.76      0.76      0.75     12000\n",
      "weighted avg       0.76      0.76      0.75     12000\n",
      "\n",
      "[[ 943    7   13  124    8   27   21    1   40    5]\n",
      " [  13 1087   24   52    9    2    2    0    0    0]\n",
      " [  46    0  845    7  186   22   54    0   44    0]\n",
      " [  66   19    2 1044   74   10   38    0    4    3]\n",
      " [  12    2  196   58  820   17   62    0   40    1]\n",
      " [   0    0    2    1    7  954    1  119   44   60]\n",
      " [ 336    2  173   62  172   42  345    1   59    3]\n",
      " [   1    0    0    0    4  111    0  960    7   77]\n",
      " [   9    0    6   15   13   46   13    9 1097    2]\n",
      " [   0    0    1    0    1   59    0   65    4 1067]]\n"
     ]
    }
   ],
   "source": [
    "#with pca\n",
    "random_forest(x_pca_train, x_pca_test, y_train, y_test)"
   ],
   "metadata": {
    "collapsed": false,
    "pycharm": {
     "name": "#%%\n"
    }
   }
  },
  {
   "cell_type": "code",
   "execution_count": 15,
   "outputs": [
    {
     "name": "stdout",
     "output_type": "stream",
     "text": [
      "              precision    recall  f1-score   support\n",
      "\n",
      "           0       0.83      0.61      0.70      1189\n",
      "           1       0.66      0.94      0.78      1189\n",
      "           2       0.58      0.34      0.43      1204\n",
      "           3       0.45      0.61      0.52      1260\n",
      "           4       0.38      0.74      0.50      1208\n",
      "           5       0.86      0.28      0.42      1188\n",
      "           6       0.31      0.04      0.06      1195\n",
      "           7       0.50      0.97      0.66      1160\n",
      "           8       0.85      0.72      0.78      1210\n",
      "           9       0.94      0.68      0.79      1197\n",
      "\n",
      "    accuracy                           0.59     12000\n",
      "   macro avg       0.64      0.59      0.56     12000\n",
      "weighted avg       0.64      0.59      0.56     12000\n",
      "\n",
      "[[ 729   50   37  229   87    1   25    0   31    0]\n",
      " [   2 1117   12   43    3    0   11    0    1    0]\n",
      " [   2   10  409   87  651    0   15    0   30    0]\n",
      " [   5  427    6  772   40    0    8    0    2    0]\n",
      " [   1   42   55  206  890    0    3    0   11    0]\n",
      " [   0    2    2    3    0  331    5  806    7   32]\n",
      " [ 138   36  156  261  505    0   42    0   57    0]\n",
      " [   0    0    0    0    0    8    0 1126    4   22]\n",
      " [   3    2   20  111  168   10   22    2  870    2]\n",
      " [   0    0    3    1    1   33    4  337    5  813]]\n"
     ]
    }
   ],
   "source": [
    "#without pca\n",
    "naive(x_train, x_test, y_train, y_test)"
   ],
   "metadata": {
    "collapsed": false,
    "pycharm": {
     "name": "#%%\n"
    }
   }
  },
  {
   "cell_type": "code",
   "execution_count": 16,
   "outputs": [
    {
     "name": "stdout",
     "output_type": "stream",
     "text": [
      "              precision    recall  f1-score   support\n",
      "\n",
      "           0       0.72      0.73      0.72      1189\n",
      "           1       0.93      0.89      0.91      1189\n",
      "           2       0.72      0.67      0.69      1204\n",
      "           3       0.80      0.75      0.77      1260\n",
      "           4       0.72      0.67      0.69      1208\n",
      "           5       0.77      0.74      0.76      1188\n",
      "           6       0.54      0.45      0.49      1195\n",
      "           7       0.74      0.85      0.79      1160\n",
      "           8       0.59      0.84      0.69      1210\n",
      "           9       0.93      0.84      0.88      1197\n",
      "\n",
      "    accuracy                           0.74     12000\n",
      "   macro avg       0.75      0.74      0.74     12000\n",
      "weighted avg       0.75      0.74      0.74     12000\n",
      "\n",
      "[[ 866    4   18   63    4    8   74    0  152    0]\n",
      " [   8 1056   12   57    1    4   13    0   38    0]\n",
      " [  26    0  801    6  155   19  106    0   91    0]\n",
      " [  64   68   10  939   41   24   42    0   72    0]\n",
      " [   8    3  114   59  804    4  128    0   88    0]\n",
      " [  11    0   10    1    0  881   42  200   34    9]\n",
      " [ 197    7  125   39   90   23  539    0  175    0]\n",
      " [   0    0    0    0    0  109    0  982    6   63]\n",
      " [  26    0   22   11   28   28   44   36 1013    2]\n",
      " [   0    0    1    0    0   39   10  102   37 1008]]\n"
     ]
    }
   ],
   "source": [
    "#with pca\n",
    "naive(x_pca_train, x_pca_test, y_train, y_test)"
   ],
   "metadata": {
    "collapsed": false,
    "pycharm": {
     "name": "#%%\n"
    }
   }
  },
  {
   "cell_type": "code",
   "execution_count": 17,
   "outputs": [
    {
     "name": "stderr",
     "output_type": "stream",
     "text": [
      "/home/pequeno/pythonProject/Project/Mnist_Hands/lib64/python3.8/site-packages/sklearn/linear_model/_logistic.py:762: ConvergenceWarning: lbfgs failed to converge (status=1):\n",
      "STOP: TOTAL NO. of ITERATIONS REACHED LIMIT.\n",
      "\n",
      "Increase the number of iterations (max_iter) or scale the data as shown in:\n",
      "    https://scikit-learn.org/stable/modules/preprocessing.html\n",
      "Please also refer to the documentation for alternative solver options:\n",
      "    https://scikit-learn.org/stable/modules/linear_model.html#logistic-regression\n",
      "  n_iter_i = _check_optimize_result(\n"
     ]
    },
    {
     "name": "stdout",
     "output_type": "stream",
     "text": [
      "              precision    recall  f1-score   support\n",
      "\n",
      "           0       0.80      0.82      0.81      1189\n",
      "           1       0.97      0.97      0.97      1189\n",
      "           2       0.74      0.78      0.76      1204\n",
      "           3       0.86      0.87      0.86      1260\n",
      "           4       0.73      0.78      0.75      1208\n",
      "           5       0.94      0.90      0.92      1188\n",
      "           6       0.66      0.55      0.60      1195\n",
      "           7       0.91      0.93      0.92      1160\n",
      "           8       0.93      0.94      0.93      1210\n",
      "           9       0.93      0.94      0.93      1197\n",
      "\n",
      "    accuracy                           0.85     12000\n",
      "   macro avg       0.85      0.85      0.85     12000\n",
      "weighted avg       0.85      0.85      0.85     12000\n",
      "\n"
     ]
    },
    {
     "data": {
      "text/plain": "<Figure size 432x288 with 2 Axes>",
      "image/png": "[encoded data removed]"
     },
     "metadata": {
      "needs_background": "light"
     },
     "output_type": "display_data"
    }
   ],
   "source": [
    "#without pca\n",
    "log_reg(x_train, x_test, y_train, y_test)"
   ],
   "metadata": {
    "collapsed": false,
    "pycharm": {
     "name": "#%%\n"
    }
   }
  },
  {
   "cell_type": "code",
   "execution_count": 25,
   "outputs": [
    {
     "name": "stderr",
     "output_type": "stream",
     "text": [
      "/home/pequeno/pythonProject/Project/Mnist_Hands/lib64/python3.8/site-packages/sklearn/linear_model/_logistic.py:762: ConvergenceWarning: lbfgs failed to converge (status=1):\n",
      "STOP: TOTAL NO. of ITERATIONS REACHED LIMIT.\n",
      "\n",
      "Increase the number of iterations (max_iter) or scale the data as shown in:\n",
      "    https://scikit-learn.org/stable/modules/preprocessing.html\n",
      "Please also refer to the documentation for alternative solver options:\n",
      "    https://scikit-learn.org/stable/modules/linear_model.html#logistic-regression\n",
      "  n_iter_i = _check_optimize_result(\n"
     ]
    },
    {
     "name": "stdout",
     "output_type": "stream",
     "text": [
      "              precision    recall  f1-score   support\n",
      "\n",
      "           0       0.79      0.83      0.81      1189\n",
      "           1       0.98      0.97      0.97      1189\n",
      "           2       0.74      0.77      0.75      1204\n",
      "           3       0.87      0.87      0.87      1260\n",
      "           4       0.76      0.77      0.76      1208\n",
      "           5       0.93      0.94      0.94      1188\n",
      "           6       0.64      0.58      0.61      1195\n",
      "           7       0.91      0.91      0.91      1160\n",
      "           8       0.95      0.94      0.94      1210\n",
      "           9       0.94      0.95      0.94      1197\n",
      "\n",
      "    accuracy                           0.85     12000\n",
      "   macro avg       0.85      0.85      0.85     12000\n",
      "weighted avg       0.85      0.85      0.85     12000\n",
      "\n"
     ]
    },
    {
     "data": {
      "text/plain": "<Figure size 432x288 with 2 Axes>",
      "image/png": "[encoded data removed]"
     },
     "metadata": {
      "needs_background": "light"
     },
     "output_type": "display_data"
    }
   ],
   "source": [
    "#with pca\n",
    "log_reg(x_pca_train, x_pca_test, y_train, y_test)"
   ],
   "metadata": {
    "collapsed": false,
    "pycharm": {
     "name": "#%%\n"
    }
   }
  },
  {
   "cell_type": "code",
   "execution_count": 18,
   "outputs": [
    {
     "name": "stdout",
     "output_type": "stream",
     "text": [
      "[[ 933    3    2  115   24    0   96    0   16    0]\n",
      " [  13 1112    0   34   20    0    9    1    0    0]\n",
      " [  35    1  230   18  646    0  262    0   12    0]\n",
      " [  31    8    1 1124   73    0   20    1    1    1]\n",
      " [   2    0    1   47 1079    0   73    0    6    0]\n",
      " [   4    3    0    5    0 1006    3   94   40   33]\n",
      " [ 193    3   17   90  271    0  591    0   30    0]\n",
      " [   0    0    0    1    0   13    1 1116    7   22]\n",
      " [  11    1    1   28   19    4   22    6 1116    2]\n",
      " [   0    0    0    2    1   22    0   71    4 1097]]\n",
      "              precision    recall  f1-score   support\n",
      "\n",
      "           0       0.76      0.78      0.77      1189\n",
      "           1       0.98      0.94      0.96      1189\n",
      "           2       0.91      0.19      0.32      1204\n",
      "           3       0.77      0.89      0.83      1260\n",
      "           4       0.51      0.89      0.65      1208\n",
      "           5       0.96      0.85      0.90      1188\n",
      "           6       0.55      0.49      0.52      1195\n",
      "           7       0.87      0.96      0.91      1160\n",
      "           8       0.91      0.92      0.91      1210\n",
      "           9       0.95      0.92      0.93      1197\n",
      "\n",
      "    accuracy                           0.78     12000\n",
      "   macro avg       0.82      0.78      0.77     12000\n",
      "weighted avg       0.82      0.78      0.77     12000\n",
      "\n",
      "Accuracy: 0.784\n"
     ]
    }
   ],
   "source": [
    "#without pca\n",
    "svm(x_train, x_test, y_train, y_test)"
   ],
   "metadata": {
    "collapsed": false,
    "pycharm": {
     "name": "#%%\n"
    }
   }
  },
  {
   "cell_type": "code",
   "execution_count": 19,
   "outputs": [
    {
     "name": "stdout",
     "output_type": "stream",
     "text": [
      "[[ 905   14   50   37   19    8  130    2   22    2]\n",
      " [   2 1151    4   18    8    0    5    1    0    0]\n",
      " [  10   10  744   10  237   10  171    2   10    0]\n",
      " [  46   21   43  984  108    2   52    1    2    1]\n",
      " [   4    3   74   19  982    4  115    1    6    0]\n",
      " [   1    2    1    2    0 1162    0    9    3    8]\n",
      " [ 169   11  183   28  167   10  597    1   28    1]\n",
      " [   0    0    0    0    0  271    0  819    2   68]\n",
      " [  10    3   76   30    8   26   19    7 1024    7]\n",
      " [   0    3    0    0    0   78    0   24    0 1092]]\n",
      "              precision    recall  f1-score   support\n",
      "\n",
      "           0       0.79      0.76      0.77      1189\n",
      "           1       0.94      0.97      0.96      1189\n",
      "           2       0.63      0.62      0.63      1204\n",
      "           3       0.87      0.78      0.82      1260\n",
      "           4       0.64      0.81      0.72      1208\n",
      "           5       0.74      0.98      0.84      1188\n",
      "           6       0.55      0.50      0.52      1195\n",
      "           7       0.94      0.71      0.81      1160\n",
      "           8       0.93      0.85      0.89      1210\n",
      "           9       0.93      0.91      0.92      1197\n",
      "\n",
      "    accuracy                           0.79     12000\n",
      "   macro avg       0.80      0.79      0.79     12000\n",
      "weighted avg       0.80      0.79      0.79     12000\n",
      "\n",
      "Accuracy: 0.788\n"
     ]
    }
   ],
   "source": [
    "#with pca\n",
    "svm(x_pca_train, x_pca_test, y_train, y_test)"
   ],
   "metadata": {
    "collapsed": false,
    "pycharm": {
     "name": "#%%\n"
    }
   }
  },
  {
   "cell_type": "code",
   "execution_count": 20,
   "outputs": [],
   "source": [
    "#without pca\n",
    "#knn(x_train, x_test, y_train, y_test)"
   ],
   "metadata": {
    "collapsed": false,
    "pycharm": {
     "name": "#%%\n"
    }
   }
  },
  {
   "cell_type": "code",
   "execution_count": 21,
   "outputs": [],
   "source": [
    "#with pca\n",
    "#knn(x_train, x_test, y_train, y_test)"
   ],
   "metadata": {
    "collapsed": false,
    "pycharm": {
     "name": "#%%\n"
    }
   }
  },
  {
   "cell_type": "code",
   "execution_count": 22,
   "outputs": [
    {
     "name": "stdout",
     "output_type": "stream",
     "text": [
      "[[ 902    7   34   63    6    3  160    1   12    1]\n",
      " [   7 1126    5   31    5    0   10    0    5    0]\n",
      " [  23    4  839   12  169    2  144    0   11    0]\n",
      " [  54   39   21 1007   63    2   59    1   13    1]\n",
      " [   6    3  180   69  810    2  129    0    9    0]\n",
      " [   1    1    4    2    1 1056    1   71   15   36]\n",
      " [ 188    9  153   49  140    2  630    1   21    2]\n",
      " [   0    0    0    0    0   59    0 1014    6   81]\n",
      " [  14    2   15   10   14   17   28   12 1091    7]\n",
      " [   0    0    4    0    2   32    1   69    4 1085]]\n",
      "              precision    recall  f1-score   support\n",
      "\n",
      "           0       0.75      0.76      0.76      1189\n",
      "           1       0.95      0.95      0.95      1189\n",
      "           2       0.67      0.70      0.68      1204\n",
      "           3       0.81      0.80      0.80      1260\n",
      "           4       0.67      0.67      0.67      1208\n",
      "           5       0.90      0.89      0.89      1188\n",
      "           6       0.54      0.53      0.53      1195\n",
      "           7       0.87      0.87      0.87      1160\n",
      "           8       0.92      0.90      0.91      1210\n",
      "           9       0.89      0.91      0.90      1197\n",
      "\n",
      "    accuracy                           0.80     12000\n",
      "   macro avg       0.80      0.80      0.80     12000\n",
      "weighted avg       0.80      0.80      0.80     12000\n",
      "\n"
     ]
    }
   ],
   "source": [
    "#without pca\n",
    "decision_tree(x_train, x_test, y_train, y_test)"
   ],
   "metadata": {
    "collapsed": false,
    "pycharm": {
     "name": "#%%\n"
    }
   }
  },
  {
   "cell_type": "code",
   "execution_count": 23,
   "outputs": [
    {
     "name": "stdout",
     "output_type": "stream",
     "text": [
      "[[ 898    5   29   68   11    3  163    1   10    1]\n",
      " [   7 1120    6   31    6    0   16    0    3    0]\n",
      " [  22    2  820   16  172    2  154    0   15    1]\n",
      " [  51   37   26  995   72    1   66    0   11    1]\n",
      " [   8    3  181   62  811    1  132    0   10    0]\n",
      " [   2    1    0    1    2 1068    5   63   11   35]\n",
      " [ 187    9  164   39  134    4  631    1   26    0]\n",
      " [   0    0    0    0    0   64    0 1012    4   80]\n",
      " [  10    3   17   15   16   16   31   12 1083    7]\n",
      " [   0    1    4    0    1   29    0   74    4 1084]]\n",
      "              precision    recall  f1-score   support\n",
      "\n",
      "           0       0.76      0.76      0.76      1189\n",
      "           1       0.95      0.94      0.95      1189\n",
      "           2       0.66      0.68      0.67      1204\n",
      "           3       0.81      0.79      0.80      1260\n",
      "           4       0.66      0.67      0.67      1208\n",
      "           5       0.90      0.90      0.90      1188\n",
      "           6       0.53      0.53      0.53      1195\n",
      "           7       0.87      0.87      0.87      1160\n",
      "           8       0.92      0.90      0.91      1210\n",
      "           9       0.90      0.91      0.90      1197\n",
      "\n",
      "    accuracy                           0.79     12000\n",
      "   macro avg       0.79      0.79      0.79     12000\n",
      "weighted avg       0.79      0.79      0.79     12000\n",
      "\n"
     ]
    }
   ],
   "source": [
    "#with pca\n",
    "decision_tree(x_train, x_test, y_train, y_test)"
   ],
   "metadata": {
    "collapsed": false,
    "pycharm": {
     "name": "#%%\n"
    }
   }
  }
 ],
 "metadata": {
  "kernelspec": {
   "display_name": "Python 3",
   "language": "python",
   "name": "python3"
  },
  "language_info": {
   "codemirror_mode": {
    "name": "ipython",
    "version": 2
   },
   "file_extension": ".py",
   "mimetype": "text/x-python",
   "name": "python",
   "nbconvert_exporter": "python",
   "pygments_lexer": "ipython2",
   "version": "2.7.6"
  }
 },
 "nbformat": 4,
 "nbformat_minor": 0
}